{
  "nbformat": 4,
  "nbformat_minor": 0,
  "metadata": {
    "colab": {
      "provenance": [],
      "toc_visible": true,
      "authorship_tag": "ABX9TyNaj/sOvf5bHzFWJamxURmP",
      "include_colab_link": true
    },
    "kernelspec": {
      "name": "python3",
      "display_name": "Python 3"
    },
    "language_info": {
      "name": "python"
    }
  },
  "cells": [
    {
      "cell_type": "markdown",
      "metadata": {
        "id": "view-in-github",
        "colab_type": "text"
      },
      "source": [
        "<a href=\"https://colab.research.google.com/github/PaulToronto/Applied-Geospatial-Data-Science-with-Python---Book/blob/main/2_5_Folium_Getting_Started.ipynb\" target=\"_parent\"><img src=\"https://colab.research.google.com/assets/colab-badge.svg\" alt=\"Open In Colab\"/></a>"
      ]
    },
    {
      "cell_type": "markdown",
      "source": [
        "# Folium Getting Started"
      ],
      "metadata": {
        "id": "XcO4Lc16hMfc"
      }
    },
    {
      "cell_type": "markdown",
      "source": [
        "## Imports"
      ],
      "metadata": {
        "id": "LZt0vvlFhVKK"
      }
    },
    {
      "cell_type": "code",
      "execution_count": 1,
      "metadata": {
        "id": "l1DhpVtchI3G"
      },
      "outputs": [],
      "source": [
        "import folium"
      ]
    },
    {
      "cell_type": "markdown",
      "source": [
        "## Creating a map"
      ],
      "metadata": {
        "id": "iEsgoYiXhrjf"
      }
    },
    {
      "cell_type": "code",
      "source": [
        "m = folium.Map(location=(45.5236, -122.6750))"
      ],
      "metadata": {
        "id": "Ra7r26HQhtBT"
      },
      "execution_count": 2,
      "outputs": []
    },
    {
      "cell_type": "code",
      "source": [
        "type(m)"
      ],
      "metadata": {
        "colab": {
          "base_uri": "https://localhost:8080/",
          "height": 256
        },
        "id": "LFUSdpP9h3fk",
        "outputId": "fbd0854f-91a3-461a-c666-0dca75622737"
      },
      "execution_count": 3,
      "outputs": [
        {
          "output_type": "execute_result",
          "data": {
            "text/plain": [
              "folium.folium.Map"
            ],
            "text/html": [
              "<div style=\"max-width:800px; border: 1px solid var(--colab-border-color);\"><style>\n",
              "      pre.function-repr-contents {\n",
              "        overflow-x: auto;\n",
              "        padding: 8px 12px;\n",
              "        max-height: 500px;\n",
              "      }\n",
              "\n",
              "      pre.function-repr-contents.function-repr-contents-collapsed {\n",
              "        cursor: pointer;\n",
              "        max-height: 100px;\n",
              "      }\n",
              "    </style>\n",
              "    <pre style=\"white-space: initial; background:\n",
              "         var(--colab-secondary-surface-color); padding: 8px 12px;\n",
              "         border-bottom: 1px solid var(--colab-border-color);\"><b>folium.folium.Map</b><br/>def __init__(location=None, width=&#x27;100%&#x27;, height=&#x27;100%&#x27;, left=&#x27;0%&#x27;, top=&#x27;0%&#x27;, position=&#x27;relative&#x27;, tiles=&#x27;OpenStreetMap&#x27;, attr=None, min_zoom=0, max_zoom=18, zoom_start=10, min_lat=-90, max_lat=90, min_lon=-180, max_lon=180, max_bounds=False, crs=&#x27;EPSG3857&#x27;, control_scale=False, prefer_canvas=False, no_touch=False, disable_3d=False, png_enabled=False, zoom_control=True, **kwargs)</pre><pre class=\"function-repr-contents function-repr-contents-collapsed\" style=\"\"><a class=\"filepath\" style=\"display:none\" href=\"#\">/usr/local/lib/python3.10/dist-packages/folium/folium.py</a>Create a Map with Folium and Leaflet.js\n",
              "\n",
              "Generate a base map of given width and height with either default\n",
              "tilesets or a custom tileset URL. The following tilesets are built-in\n",
              "to Folium. Pass any of the following to the &quot;tiles&quot; keyword:\n",
              "\n",
              "    - &quot;OpenStreetMap&quot;\n",
              "    - &quot;Mapbox Bright&quot; (Limited levels of zoom for free tiles)\n",
              "    - &quot;Mapbox Control Room&quot; (Limited levels of zoom for free tiles)\n",
              "    - &quot;Stamen&quot; (Terrain, Toner, and Watercolor)\n",
              "    - &quot;Cloudmade&quot; (Must pass API key)\n",
              "    - &quot;Mapbox&quot; (Must pass API key)\n",
              "    - &quot;CartoDB&quot; (positron and dark_matter)\n",
              "\n",
              "You can pass a custom tileset to Folium by passing a\n",
              ":class:`xyzservices.TileProvider` or a Leaflet-style\n",
              "URL to the tiles parameter: ``http://{s}.yourtiles.com/{z}/{x}/{y}.png``.\n",
              "\n",
              "You can find a list of free tile providers here:\n",
              "``http://leaflet-extras.github.io/leaflet-providers/preview/``.\n",
              "Be sure to check their terms and conditions and to provide attribution\n",
              "with the `attr` keyword.\n",
              "\n",
              "Parameters\n",
              "----------\n",
              "location: tuple or list, default None\n",
              "    Latitude and Longitude of Map (Northing, Easting).\n",
              "width: pixel int or percentage string (default: &#x27;100%&#x27;)\n",
              "    Width of the map.\n",
              "height: pixel int or percentage string (default: &#x27;100%&#x27;)\n",
              "    Height of the map.\n",
              "tiles: str or TileLayer or :class:`xyzservices.TileProvider`, default &#x27;OpenStreetMap&#x27;\n",
              "    Map tileset to use. Can choose from a list of built-in tiles,\n",
              "    pass a :class:`xyzservices.TileProvider`,\n",
              "    pass a custom URL, pass a TileLayer object,\n",
              "    or pass `None` to create a map without tiles.\n",
              "    For more advanced tile layer options, use the `TileLayer` class.\n",
              "min_zoom: int, default 0\n",
              "    Minimum allowed zoom level for the tile layer that is created.\n",
              "max_zoom: int, default 18\n",
              "    Maximum allowed zoom level for the tile layer that is created.\n",
              "zoom_start: int, default 10\n",
              "    Initial zoom level for the map.\n",
              "attr: string, default None\n",
              "    Map tile attribution; only required if passing custom tile URL.\n",
              "crs : str, default &#x27;EPSG3857&#x27;\n",
              "    Defines coordinate reference systems for projecting geographical points\n",
              "    into pixel (screen) coordinates and back.\n",
              "    You can use Leaflet&#x27;s values :\n",
              "    * EPSG3857 : The most common CRS for online maps, used by almost all\n",
              "    free and commercial tile providers. Uses Spherical Mercator projection.\n",
              "    Set in by default in Map&#x27;s crs option.\n",
              "    * EPSG4326 : A common CRS among GIS enthusiasts.\n",
              "    Uses simple Equirectangular projection.\n",
              "    * EPSG3395 : Rarely used by some commercial tile providers.\n",
              "    Uses Elliptical Mercator projection.\n",
              "    * Simple : A simple CRS that maps longitude and latitude into\n",
              "    x and y directly. May be used for maps of flat surfaces\n",
              "    (e.g. game maps). Note that the y axis should still be inverted\n",
              "    (going from bottom to top).\n",
              "control_scale : bool, default False\n",
              "    Whether to add a control scale on the map.\n",
              "prefer_canvas : bool, default False\n",
              "    Forces Leaflet to use the Canvas back-end (if available) for\n",
              "    vector layers instead of SVG. This can increase performance\n",
              "    considerably in some cases (e.g. many thousands of circle\n",
              "    markers on the map).\n",
              "no_touch : bool, default False\n",
              "    Forces Leaflet to not use touch events even if it detects them.\n",
              "disable_3d : bool, default False\n",
              "    Forces Leaflet to not use hardware-accelerated CSS 3D\n",
              "    transforms for positioning (which may cause glitches in some\n",
              "    rare environments) even if they&#x27;re supported.\n",
              "zoom_control : bool, default True\n",
              "    Display zoom controls on the map.\n",
              "**kwargs\n",
              "    Additional keyword arguments are passed to Leaflets Map class:\n",
              "    https://leafletjs.com/reference.html#map\n",
              "\n",
              "Returns\n",
              "-------\n",
              "Folium Map Object\n",
              "\n",
              "Examples\n",
              "--------\n",
              "&gt;&gt;&gt; m = folium.Map(location=[45.523, -122.675], width=750, height=500)\n",
              "&gt;&gt;&gt; m = folium.Map(location=[45.523, -122.675], tiles=&quot;cartodb positron&quot;)\n",
              "&gt;&gt;&gt; m = folium.Map(\n",
              "...     location=[45.523, -122.675],\n",
              "...     zoom_start=2,\n",
              "...     tiles=&quot;https://api.mapbox.com/v4/mapbox.streets/{z}/{x}/{y}.png?access_token=mytoken&quot;,\n",
              "...     attr=&quot;Mapbox attribution&quot;,\n",
              "... )</pre>\n",
              "      <script>\n",
              "      if (google.colab.kernel.accessAllowed && google.colab.files && google.colab.files.view) {\n",
              "        for (const element of document.querySelectorAll('.filepath')) {\n",
              "          element.style.display = 'block'\n",
              "          element.onclick = (event) => {\n",
              "            event.preventDefault();\n",
              "            event.stopPropagation();\n",
              "            google.colab.files.view(element.textContent, 83);\n",
              "          };\n",
              "        }\n",
              "      }\n",
              "      for (const element of document.querySelectorAll('.function-repr-contents')) {\n",
              "        element.onclick = (event) => {\n",
              "          event.preventDefault();\n",
              "          event.stopPropagation();\n",
              "          element.classList.toggle('function-repr-contents-collapsed');\n",
              "        };\n",
              "      }\n",
              "      </script>\n",
              "      </div>"
            ]
          },
          "metadata": {},
          "execution_count": 3
        }
      ]
    },
    {
      "cell_type": "code",
      "source": [
        "m"
      ],
      "metadata": {
        "colab": {
          "base_uri": "https://localhost:8080/",
          "height": 798
        },
        "id": "M7PrG3hah5HR",
        "outputId": "acb286cc-de6a-4c75-d671-7f1445757a65"
      },
      "execution_count": 4,
      "outputs": [
        {
          "output_type": "execute_result",
          "data": {
            "text/plain": [
              "<folium.folium.Map at 0x7b14888c3eb0>"
            ],
            "text/html": [
              "<div style=\"width:100%;\"><div style=\"position:relative;width:100%;height:0;padding-bottom:60%;\"><span style=\"color:#565656\">Make this Notebook Trusted to load map: File -> Trust Notebook</span><iframe srcdoc=\"&lt;!DOCTYPE html&gt;\n",
              "&lt;html&gt;\n",
              "&lt;head&gt;\n",
              "    \n",
              "    &lt;meta http-equiv=&quot;content-type&quot; content=&quot;text/html; charset=UTF-8&quot; /&gt;\n",
              "    \n",
              "        &lt;script&gt;\n",
              "            L_NO_TOUCH = false;\n",
              "            L_DISABLE_3D = false;\n",
              "        &lt;/script&gt;\n",
              "    \n",
              "    &lt;style&gt;html, body {width: 100%;height: 100%;margin: 0;padding: 0;}&lt;/style&gt;\n",
              "    &lt;style&gt;#map {position:absolute;top:0;bottom:0;right:0;left:0;}&lt;/style&gt;\n",
              "    &lt;script src=&quot;https://cdn.jsdelivr.net/npm/leaflet@1.9.3/dist/leaflet.js&quot;&gt;&lt;/script&gt;\n",
              "    &lt;script src=&quot;https://code.jquery.com/jquery-1.12.4.min.js&quot;&gt;&lt;/script&gt;\n",
              "    &lt;script src=&quot;https://cdn.jsdelivr.net/npm/bootstrap@5.2.2/dist/js/bootstrap.bundle.min.js&quot;&gt;&lt;/script&gt;\n",
              "    &lt;script src=&quot;https://cdnjs.cloudflare.com/ajax/libs/Leaflet.awesome-markers/2.0.2/leaflet.awesome-markers.js&quot;&gt;&lt;/script&gt;\n",
              "    &lt;link rel=&quot;stylesheet&quot; href=&quot;https://cdn.jsdelivr.net/npm/leaflet@1.9.3/dist/leaflet.css&quot;/&gt;\n",
              "    &lt;link rel=&quot;stylesheet&quot; href=&quot;https://cdn.jsdelivr.net/npm/bootstrap@5.2.2/dist/css/bootstrap.min.css&quot;/&gt;\n",
              "    &lt;link rel=&quot;stylesheet&quot; href=&quot;https://netdna.bootstrapcdn.com/bootstrap/3.0.0/css/bootstrap.min.css&quot;/&gt;\n",
              "    &lt;link rel=&quot;stylesheet&quot; href=&quot;https://cdn.jsdelivr.net/npm/@fortawesome/fontawesome-free@6.2.0/css/all.min.css&quot;/&gt;\n",
              "    &lt;link rel=&quot;stylesheet&quot; href=&quot;https://cdnjs.cloudflare.com/ajax/libs/Leaflet.awesome-markers/2.0.2/leaflet.awesome-markers.css&quot;/&gt;\n",
              "    &lt;link rel=&quot;stylesheet&quot; href=&quot;https://cdn.jsdelivr.net/gh/python-visualization/folium/folium/templates/leaflet.awesome.rotate.min.css&quot;/&gt;\n",
              "    \n",
              "            &lt;meta name=&quot;viewport&quot; content=&quot;width=device-width,\n",
              "                initial-scale=1.0, maximum-scale=1.0, user-scalable=no&quot; /&gt;\n",
              "            &lt;style&gt;\n",
              "                #map_6983337733c2ae48f1bc0cfbaca9122a {\n",
              "                    position: relative;\n",
              "                    width: 100.0%;\n",
              "                    height: 100.0%;\n",
              "                    left: 0.0%;\n",
              "                    top: 0.0%;\n",
              "                }\n",
              "                .leaflet-container { font-size: 1rem; }\n",
              "            &lt;/style&gt;\n",
              "        \n",
              "&lt;/head&gt;\n",
              "&lt;body&gt;\n",
              "    \n",
              "    \n",
              "            &lt;div class=&quot;folium-map&quot; id=&quot;map_6983337733c2ae48f1bc0cfbaca9122a&quot; &gt;&lt;/div&gt;\n",
              "        \n",
              "&lt;/body&gt;\n",
              "&lt;script&gt;\n",
              "    \n",
              "    \n",
              "            var map_6983337733c2ae48f1bc0cfbaca9122a = L.map(\n",
              "                &quot;map_6983337733c2ae48f1bc0cfbaca9122a&quot;,\n",
              "                {\n",
              "                    center: [45.5236, -122.675],\n",
              "                    crs: L.CRS.EPSG3857,\n",
              "                    zoom: 10,\n",
              "                    zoomControl: true,\n",
              "                    preferCanvas: false,\n",
              "                }\n",
              "            );\n",
              "\n",
              "            \n",
              "\n",
              "        \n",
              "    \n",
              "            var tile_layer_83c2144251e299edd739216f9fa4dc2e = L.tileLayer(\n",
              "                &quot;https://{s}.tile.openstreetmap.org/{z}/{x}/{y}.png&quot;,\n",
              "                {&quot;attribution&quot;: &quot;Data by \\u0026copy; \\u003ca target=\\&quot;_blank\\&quot; href=\\&quot;http://openstreetmap.org\\&quot;\\u003eOpenStreetMap\\u003c/a\\u003e, under \\u003ca target=\\&quot;_blank\\&quot; href=\\&quot;http://www.openstreetmap.org/copyright\\&quot;\\u003eODbL\\u003c/a\\u003e.&quot;, &quot;detectRetina&quot;: false, &quot;maxNativeZoom&quot;: 18, &quot;maxZoom&quot;: 18, &quot;minZoom&quot;: 0, &quot;noWrap&quot;: false, &quot;opacity&quot;: 1, &quot;subdomains&quot;: &quot;abc&quot;, &quot;tms&quot;: false}\n",
              "            ).addTo(map_6983337733c2ae48f1bc0cfbaca9122a);\n",
              "        \n",
              "&lt;/script&gt;\n",
              "&lt;/html&gt;\" style=\"position:absolute;width:100%;height:100%;left:0;top:0;border:none !important;\" allowfullscreen webkitallowfullscreen mozallowfullscreen></iframe></div></div>"
            ]
          },
          "metadata": {},
          "execution_count": 4
        }
      ]
    }
  ]
}