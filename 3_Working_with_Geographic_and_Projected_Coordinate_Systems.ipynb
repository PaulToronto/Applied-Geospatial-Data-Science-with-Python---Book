{
  "nbformat": 4,
  "nbformat_minor": 0,
  "metadata": {
    "colab": {
      "provenance": [],
      "toc_visible": true,
      "authorship_tag": "ABX9TyPZjX1ggMYJBc1d7HemKmqJ",
      "include_colab_link": true
    },
    "kernelspec": {
      "name": "python3",
      "display_name": "Python 3"
    },
    "language_info": {
      "name": "python"
    }
  },
  "cells": [
    {
      "cell_type": "markdown",
      "metadata": {
        "id": "view-in-github",
        "colab_type": "text"
      },
      "source": [
        "<a href=\"https://colab.research.google.com/github/PaulToronto/Applied-Geospatial-Data-Science-with-Python---Book/blob/main/3_Working_with_Geographic_and_Projected_Coordinate_Systems.ipynb\" target=\"_parent\"><img src=\"https://colab.research.google.com/assets/colab-badge.svg\" alt=\"Open In Colab\"/></a>"
      ]
    },
    {
      "cell_type": "markdown",
      "source": [
        "# Working with Geographic and Projected Coordinate Systems"
      ],
      "metadata": {
        "id": "LF2dAR5CzUT8"
      }
    },
    {
      "cell_type": "markdown",
      "source": [
        "## Imports"
      ],
      "metadata": {
        "id": "bqBYPmVLzZLY"
      }
    },
    {
      "cell_type": "code",
      "source": [],
      "metadata": {
        "id": "3kdtLL50zbQL"
      },
      "execution_count": null,
      "outputs": []
    },
    {
      "cell_type": "markdown",
      "source": [
        "- In order to represent the Earth, which is a globe, on a flat 2-dimensional surface, we need to understand **map projections** and the **coordinate reference system (CRS)**"
      ],
      "metadata": {
        "id": "luWU_x9rzam8"
      }
    },
    {
      "cell_type": "markdown",
      "source": [
        "## Exploring geographic coordinate systems\n",
        "\n",
        "- a **geographic coordinate system (GCS)** leverages a 3-dimensional spheroid surface to define locations on or above the Earth's surface\n",
        "    - these locations about based on their **longitude** and **latitude** values\n",
        "    - in most GIS systems, **X** is used for longitude and **Y** is used for latitude\n",
        "    - points above the Earth's surface have a **Z** value representing their altitude above the surface\n",
        "    - longitude and latitude are angles that span outward from the centre of the Earth (often measured in degrees where the entire cirlce is 360 degrees)\n",
        "    - the network of lat/lon lines is called a **graticule**\n",
        "- **meridians**\n",
        "    - lines that run north/south\n",
        "    - they intersectt the North and South Poles\n",
        "    - the central meridian is called the **prime meridian**\n",
        "        - Greenwhich, England is the most common prime meridian and is not as the **Greenwhich meridian**\n",
        "    - East of the prime meridian, longitude values range from 0 to +180 degrees\n",
        "    - West of the prime meridian, longitude values range from 0 to -180 degrees\n",
        "    - **antipodal meridian** is 180 degrees from the prime meridian\n",
        "- **parallels**\n",
        "    - lines that run east/west or horizontally\n",
        "    - these lines are equidistant to one another\n",
        "    - the parallel that divides the Earth in have is called the **equator**\n",
        "    - the equator has a latitude value of 0 degrees\n",
        "    - latitude values north of the equator, latutude values range from 0 to 90 degrees\n",
        "    - latitude values south of the equator, latutude values range from 0 to -90 degrees"
      ],
      "metadata": {
        "id": "oTbW_FXT2p8i"
      }
    },
    {
      "cell_type": "markdown",
      "source": [
        "## Understanding GCS versions\n",
        "\n",
        "- each version is a **model** of the Earth's surface and not a perfect representation of the Earth\n",
        "- the Earth is not a perfect sphere\n",
        "    - it is an **oblate spheroid** or squashe spherical object\n",
        "    - has a smaller polar circumference than equatorial circumference\n",
        "- for more information: https://desktop.arcgis.com/en/arcmap/latest/map/projections/pdf/geographic_coordinate_systems.pdf"
      ],
      "metadata": {
        "id": "M3ixgGNu97Ew"
      }
    },
    {
      "cell_type": "markdown",
      "source": [
        "### World Geodetic System 1984\n",
        "\n",
        "- **World Geodetic System 1984**, aka **WGS 1984** is the GCS that is standard for the **Global Position System (GPS)**\n",
        "- it utilizes the Earth's center mass as the coordinate system originination\n",
        "- **Geodists**, those who measure and monitor coordinates on the Earth's surface believe that WGS 1984 has an error of less than 2 centimetres\n",
        "- it is a **global ellipsoid model** (very precise) of the Earth's surface\n",
        "- used by Google Maps, Waze and Bing Maps\n",
        "- each GCS has an identifier called a **well-known ID** or **WKID**\n",
        "    - for WGS 1984 this number is: 4326\n",
        "    - when working with **projected coordinate systems (PCSS)** in Python this number is used as a parameter in your code"
      ],
      "metadata": {
        "id": "2bEjv_Wq-jch"
      }
    },
    {
      "cell_type": "markdown",
      "source": [
        "### GCJ-02\n",
        "\n",
        "- this GCS is used in China to project their national security interets\n",
        "- it is based on WGS 1985, but it layers on an obfuscation algorithm that adds noise to the actual location on the Earth's surface\n",
        "- the obfuscation is random and adds an offset to both the true latitude and true longitude\n",
        "- the maximum amount of offset is unknown but observers estimate it could be up to 500 metres\n",
        "- jokingly referred to as **Mars coordinates**\n",
        "- commerical mapping applications like Google Maps and Baidu Maps are required to leverage GCJ-02 in the mapping applications within China\n",
        "- beware of this if you use data sourced in China"
      ],
      "metadata": {
        "id": "DoT4kzUXDvNl"
      }
    },
    {
      "cell_type": "markdown",
      "source": [
        "## Understanding projected coordinate systems\n",
        "\n",
        "- the **GCS** tells us where the data is located on the Earth's surface\n",
        "    - these models are spherical\n",
        "- a **PCS** tells us how to draw and locate your data on a flat, two-dimensional plane\n",
        "    - tells use hot to convert the GCS spherical model to a flat model of the Earth's surface\n",
        "    - a PCS is also known as a **map projection**\n",
        "    - you want to choose a PCS for the area you are focused on, such that the distortion is minimized in that area\n",
        "    - by minimizing distortion in one area, you are making a trade-off and adding distortion to other areas\n",
        "    - a PCS typically represents locations in linear units (such as metres) whereas a GCS represents locations in angular unit, such as degrees\n",
        "    - there are many different PCSs"
      ],
      "metadata": {
        "id": "GtsxzInRHEj5"
      }
    },
    {
      "cell_type": "markdown",
      "source": [
        "### Common types of projected coordinate systems\n",
        "\n",
        "- each PCS is better or worse at maintaining:\n",
        "    - shape\n",
        "    - area\n",
        "    - angles\n",
        "    - scales\n",
        "    - and so on\n",
        "- knowledge of the trade-offs is critical to ensuring that your analysis is as accurate as possible\n",
        "- **EPSG** codes are maintained by the **European Petroleum Survey Group (EPSG)**\n",
        "- **ESRI** codes are prefaceb by ESRI instead of EPSG"
      ],
      "metadata": {
        "id": "ey47FJRPJTuj"
      }
    },
    {
      "cell_type": "markdown",
      "source": [
        "#### Equal-area projections\n",
        "\n",
        "- maintain the relative size of an area throughout the map\n",
        "- in order to maintain area, these projections distort shape and angles and cannot be conformal\n",
        "- Examples:\n",
        "    - Lambert **cylindrical equal-area projection**\n",
        "        - https://en.wikipedia.org/wiki/Lambert_cylindrical_equal-area_projection\n",
        "    - Behrmann map projection\n",
        "        - is a cylindrical equal-area projection\n",
        "        - epsg code: 54107\n",
        "        - https://en.wikipedia.org/wiki/Behrmann_projection\n",
        "    - Sinusoidal map projection\n",
        "        - this is a **pseudocylindrical equal-area projection**\n",
        "        - there are many sinusoidal map projections\n",
        "        - the EPSG code for the MODUS sinusoidal projection is EPSG 6974\n",
        "        - the code for the ESRI sinusoidal projection is ESRI 54008"
      ],
      "metadata": {
        "id": "TgFUUyIwKUe7"
      }
    },
    {
      "cell_type": "markdown",
      "source": [
        "#### Conformal projections\n",
        "\n",
        "- a **conformal map projection** is one that maintains the mathematical angles between all curvres that cross one another on the Earth's surface\n",
        "- if a given roadway crosses another roadway on a map at a 47 degrees angle, then the representation of that on a conformal projection is also 47 degrees\n",
        "- this is done at the expense of a large distortion of land area\n",
        "- Examples:\n",
        "    - **Mercator map projection** is a **conformal cylindrical map projection**\n",
        "        - parallels and meridians cross to form rectangles on the projected map\n",
        "        - originally created to display accruate compass bearings tto be used by ships navigating at sea\n",
        "        - good at maintaining directions, angles and shapes\n",
        "        - the largest distortions in area happen near the polar regions\n",
        "        - the **Web Mercator** variant is the de facto standard for web and mobile-based GIS\n",
        "        - Google Maps adopted it as the standard for their GIS\n",
        "        - EPSG:3857"
      ],
      "metadata": {
        "id": "1Um4nJDCOsCl"
      }
    },
    {
      "cell_type": "markdown",
      "source": [
        "#### Equidistant projections\n",
        "\n",
        "- maintain scale along one or multiple lines for form a set of points to all other points on a map\n",
        "- Examples:\n",
        "    - **Equidistant conic map projection**\n",
        "        - commonly used in producing maps of smaller countries\n",
        "        - also useful for larger regions and countries whose boundaries stretch east to west across the Earth's surface\n",
        "        - an early version known as the **simple conic projection** was developed by Ptolemy, a second-century Greek astronomer\n",
        "    - ESRI maintains the **ESRI word equidistant conic projection**\n",
        "        - ESRI 54027\n",
        "    - Also maintained by ESRI: **North American Equidistant Conic Projection**\n",
        "        - ESRI 102010"
      ],
      "metadata": {
        "id": "zr-zeu2AQ9mr"
      }
    },
    {
      "cell_type": "markdown",
      "source": [
        "#### True-direction or azimuthal projections\n",
        "\n",
        "- maintain the direction from a central point\n",
        "- at the cost of scale\n",
        "- the scale is only true along string lines radiating from the centre of the map\n",
        "- Examples:\n",
        "    - **Azimuthal equidistant projection**\n",
        "        - maitains both distance and direction\n",
        "        - the **World Azimuthal Equidistant Projection** is maintained by ESRI\n",
        "            - ESRI 102016"
      ],
      "metadata": {
        "id": "yQHZMgD5TT6F"
      }
    },
    {
      "cell_type": "markdown",
      "source": [
        "## Working with GCS and PCS in Python"
      ],
      "metadata": {
        "id": "ev5TVXUrUy39"
      }
    }
  ]
}