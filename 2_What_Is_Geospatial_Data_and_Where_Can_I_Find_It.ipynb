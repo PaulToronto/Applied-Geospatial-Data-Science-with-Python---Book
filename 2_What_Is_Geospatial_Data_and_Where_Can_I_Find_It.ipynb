{
  "nbformat": 4,
  "nbformat_minor": 0,
  "metadata": {
    "colab": {
      "provenance": [],
      "toc_visible": true,
      "authorship_tag": "ABX9TyNDmWt7cXw4SHjY/0jgiFka",
      "include_colab_link": true
    },
    "kernelspec": {
      "name": "python3",
      "display_name": "Python 3"
    },
    "language_info": {
      "name": "python"
    }
  },
  "cells": [
    {
      "cell_type": "markdown",
      "metadata": {
        "id": "view-in-github",
        "colab_type": "text"
      },
      "source": [
        "<a href=\"https://colab.research.google.com/github/PaulToronto/Applied-Geospatial-Data-Science-with-Python---Book/blob/main/2_What_Is_Geospatial_Data_and_Where_Can_I_Find_It.ipynb\" target=\"_parent\"><img src=\"https://colab.research.google.com/assets/colab-badge.svg\" alt=\"Open In Colab\"/></a>"
      ]
    },
    {
      "cell_type": "markdown",
      "source": [
        "# What Is Geospatial Data and Where Can I Find It?"
      ],
      "metadata": {
        "id": "qf9ObC7FZuc3"
      }
    },
    {
      "cell_type": "markdown",
      "source": [
        "- **Geospatial data**:\n",
        "    - data that has a geographic component\n",
        "    - data that times the data to a point on, or adjacent to, the Earth's surface"
      ],
      "metadata": {
        "id": "1_k8N8hUZ_eJ"
      }
    },
    {
      "cell_type": "markdown",
      "source": [
        "## Static and dynamic geospatial data\n",
        "\n",
        "- **static geospatial data**:\n",
        "    - does not change over a short-term time period\n",
        "    - examples:\n",
        "        - epicentre of an earthquake\n",
        "        - location of a store\n",
        "        - the number of college educated adults\n",
        "- **dynamic geospatial data**:\n",
        "    - can change in real-time\n",
        "    - examples:\n",
        "        - location of a shopper within a shopping mall\n",
        "        - the position of a bike courier delivering food\n",
        "        - the spread of an infectious disease\n",
        "    - dynamic spatial data **spatialtemporal data**, or data relating to both time and space\n",
        "- static and dynamic geospatial data come in two formats:\n",
        "    1. **vector**\n",
        "    2. **raster**"
      ],
      "metadata": {
        "id": "ZvFBOBkbar4q"
      }
    },
    {
      "cell_type": "markdown",
      "source": [
        "## Geospatial file formats\n",
        "\n",
        "- the geographic component of geospatial data of often **latitude** and **longitude**\n",
        "- a latitude and longitude coordinate is collected via a **global positioning system (GPS)**\n",
        "- a geographic component can also be derived from an address using a process called **geocoding**\n",
        "- geospatial data is a subset of **spatial data** or data that is related to a point in some broader study space"
      ],
      "metadata": {
        "id": "5XFVUd2CfqrX"
      }
    },
    {
      "cell_type": "markdown",
      "source": [
        "## Vector data\n",
        "\n",
        "- vector data is not unique to the field of **geographic information systems (GIS)** or to geospatial data science\n",
        "    - it has applications in many digital mediums\n",
        "- within GIS or geospatial data science, the vector data represents real-world features\n",
        "- the foundation of vector graphics is a **vertex** or **point** that is typically denoted by an **X** and **Y** **coordinate**\n",
        "    - this point is the location of something\n",
        "- X: **longitude**\n",
        "- Y: **latitude**\n",
        "- if you have two or more vertices, they can be connected by paths to form **polylines**\n",
        "- a series of polylines can be connected to form a **polygon**\n",
        "- polygons can also have interior vertices and polylines that carve out internal sections and for **multipart polygons**"
      ],
      "metadata": {
        "id": "_2_rWnk0gtjk"
      }
    },
    {
      "cell_type": "markdown",
      "source": [
        "### Other vector data uses\n",
        "\n",
        "- **X**, **Y** and **Z** coordinate data can be used to create **point clouds**\n",
        "    - which are becoming more ubiquitous as **Light Detection and Ranging (LiDAR)** technologies become more mainstream\n",
        "        - self-driving cars use LiDAR\n",
        "- point clouds can also be created from photography via a process called **photogrammetry** to convert overlapping 2D images into 3D models of objects\n",
        "    - photogrammetry is used in surveying on Earth and in space\n",
        "        - the James Webb Space Telescope uses photogammetry"
      ],
      "metadata": {
        "id": "3s7hPRqm4YMq"
      }
    },
    {
      "cell_type": "markdown",
      "source": [
        "### Vector file formats\n",
        "\n",
        "https://gisgeography.com/gis-formats/"
      ],
      "metadata": {
        "id": "xz-m42Av6TiE"
      }
    },
    {
      "cell_type": "markdown",
      "source": [
        "#### Shapefile\n",
        "\n",
        "- developed by Esri as an open specification data storage format\n",
        "- stores the spatial geometry of points, lines and polygons\n",
        "- also stores attribute information related to those features\n",
        "- a shapefile is a multipart file format that requires 4 main parts (only the first 3 are mandatory):\n",
        "    1. `.shp`: the geometry of a point, line or polygon feature\n",
        "    2. `.shx`: the index of a feature\n",
        "    3. `.dff`: attribute data that stores columnar variables related to their features\n",
        "    4. `.prj`: project metadata that utilizes **well-known text** to store information related to the **projection and coordinate reference system**\n",
        "- a shapefile can include several other parts\n",
        "- https://en.wikipedia.org/wiki/Shapefile\n",
        "- The United States Census Bureau maintains a specialized shapefile format called **Topologically Integrated Geographic Encoding and Reference system (TIGER)**\n",
        "    - TIGER files do not contain attribute data that is collected by census products"
      ],
      "metadata": {
        "id": "zDfSa2tU7Pqo"
      }
    },
    {
      "cell_type": "markdown",
      "source": [
        "#### GeoJSON\n",
        "\n",
        "- **Geographic Javascript Object Notation**\n",
        "    - the geographic sibling of **Javascript Object Notation (JSON)**\n",
        "    - mostly used for web-based mapping\n",
        "- GeoJSON formats store the coordinates of the geometry as well as the columnar attribute information related to those geometries as text within curly braces\n",
        "- can easily be read by any text-based file editor as well as web-based tools for working with JSON data (ex. CodeBeautify's JSON View)"
      ],
      "metadata": {
        "id": "n_BDk1O1AgnY"
      }
    },
    {
      "cell_type": "markdown",
      "source": [
        "#### KML\n",
        "\n",
        "- **Keyhole Markup Language**\n",
        "- used to store and display geographic data that was created by Google\n",
        "- Google transitioned the KML file format to **Open Geospatial Consortium (OGC)** to maintain and evolve into a standard format for displaying GIS data on web-based and mobile-based 2D maps and 3D Earth browsers\n",
        "- KML is an XML language primarily focused on geographic data visualization, including annotating maps and images\n",
        "- not just concerned about displaying data but also focused on assisting the end user in the navigation by providing them with context on what to look for and how to get there\n",
        "- https://www.ogc.org/standards/kml/\n",
        "- https://developers.google.com/kml/documentation/kmlreference"
      ],
      "metadata": {
        "id": "UuHfQdF6CeVP"
      }
    },
    {
      "cell_type": "markdown",
      "source": [
        "#### OSM\n",
        "\n",
        "- an XML-based file format that was created to store and easily distribute geospatial data by OpenStreetMap\n",
        "- OpenStreetMap is one of the largest crowdsourcing communities for geospatial data\n",
        "- the OSM file format is a collection of vector-based features from the crowdsourcing community"
      ],
      "metadata": {
        "id": "nknU_N73EGDe"
      }
    },
    {
      "cell_type": "markdown",
      "source": [
        "## Raster data\n",
        "\n",
        "- vector data uses point, polylines and polygons to model real-world objects\n",
        "- raster data is any picture data that is composed of uniform cells or **pixels** (typically square)\n",
        "- raster data takes the form of a matrix of cells or pixels\n",
        "- in geospatial data, each cell is geolocated to a specific point on the Earth's surface\n",
        "- typically used for continuous data, which cannot be easily formatted as vector data\n",
        "- often used as a background layer underneath vector data to provide more context\n",
        "- Google Maps:\n",
        "    - **points of interest (POIs)** are vector data\n",
        "    - the underlying satellite image is raster data"
      ],
      "metadata": {
        "id": "gImF7UilEnjH"
      }
    },
    {
      "cell_type": "markdown",
      "source": [
        "### Raster file formats"
      ],
      "metadata": {
        "id": "u9kNShah1EQe"
      }
    },
    {
      "cell_type": "markdown",
      "source": [
        "#### GeoTIFF\n",
        "\n",
        "- based on the **Tagged Image File Format (TIFF)**\n",
        "- an evolution of the TIFF file format in that it allows for the addition of **georeferencing** information within the image, thus allowing for geographic metadata in the image file\n",
        "- meta data included in the GeoTIFF file:\n",
        "    - vertical and horizontal components of the raster\n",
        "    - the **coordinate reference system (CRS)** that the data is based on\n",
        "    - the spatial extent and spatial resolution\n",
        "    - rules for how to project the raster data into a 2D digital medium\n",
        "- the OGC has set for the **OGC GeoTIFF 1.1 format standard**"
      ],
      "metadata": {
        "id": "3NDpnKur1MvB"
      }
    },
    {
      "cell_type": "markdown",
      "source": [
        "#### JPEG\n",
        "\n",
        "- **Joint Photographic Experts Group**\n",
        "- open source standard imrage format for containing lossy and compressed image data\n",
        "- did not allow for the inclusion of georeferenced metadata until the release of the JPEG 2000 format"
      ],
      "metadata": {
        "id": "k01CwCSL_VCw"
      }
    },
    {
      "cell_type": "markdown",
      "source": [
        "#### PNG\n",
        "\n",
        "- **Portable Network Graphics (PNG)**\n",
        "- supports georeferenced metadata\n",
        "- supports both lossy and lossless compression\n",
        "- makes use of 24-bit images"
      ],
      "metadata": {
        "id": "7EfKgtzZ_rPU"
      }
    },
    {
      "cell_type": "markdown",
      "source": [
        "## Introducing geospatial databases and storage"
      ],
      "metadata": {
        "id": "rtvxgMQ7AFeS"
      }
    },
    {
      "cell_type": "markdown",
      "source": [
        "### PostgreSQL and PostGIS\n",
        "\n",
        "- **PostgreSQL** is not spatially enabled by default, but it can be spatially enabled through the use of the PostGIS database extender\n",
        "    - https://www.postgresql.org/about/\n",
        "- **PostGIS** is a project of the **Open Source Geospatial Foundation (OSGeo)**\n",
        "    - https://postgis.net/workshops/postgis-intro/\n",
        "    - adds spatial operations souch as distance, area, union and intersection, as well as spatial geometry to teh standard PostgreSQL database\n",
        "    - example queries:\n",
        "        - How far away is the nearest pharmacy from X address?\n",
        "        - What is the size of this census tract?"
      ],
      "metadata": {
        "id": "bl6utn2wArAB"
      }
    },
    {
      "cell_type": "markdown",
      "source": [
        "### ArcGIS geodatabase\n",
        "\n",
        "- proprietary databas created by Esri\n",
        "- used with the ArcGIS suite of products"
      ],
      "metadata": {
        "id": "C15B1-WYEjyZ"
      }
    },
    {
      "cell_type": "markdown",
      "source": [
        "## Exploring open geospatial data assets"
      ],
      "metadata": {
        "id": "jKBZ-8VEFFiz"
      }
    },
    {
      "cell_type": "markdown",
      "source": [
        "### Human geography\n",
        "\n",
        "- human geographic data or anthropogeographic data is a branch of geographic data that deals with humans and their relationship to the area around them"
      ],
      "metadata": {
        "id": "jwnPx14ZFrGP"
      }
    },
    {
      "cell_type": "markdown",
      "source": [
        "#### United Stats Census Bureau data\n",
        "\n",
        "- https://data.census.gov/\n",
        "- one of the best sources of **geo-demographic data**\n",
        "- **American Housing Survey (AHS)**: https://www.census.gov/programs-surveys/ahs.html\n",
        "- **American Business Survey (ABS)**: https://www.census.gov/programs-surveys/abs.html\n",
        "\n",
        "##### GEOIDs\n",
        "\n",
        "- census data proejcts include geographic entity codes or **GEOIDs**\n",
        "- there are two primary types of GEOIDs:\n",
        "    1. **Federal Information Processing Standars (FIPS)**\n",
        "        - nested hierarchical\n",
        "    2. **Geographic Names Information System (GNIS)** codes\n",
        "        - chronological\n",
        "\n",
        "##### Data Products\n",
        "\n",
        "- census geodemographic data products can easily be downloaded from: https://data.census.gov/\n"
      ],
      "metadata": {
        "id": "DC1xsbcFGII1"
      }
    },
    {
      "cell_type": "markdown",
      "source": [
        "#### OpenStreetMap\n",
        "\n",
        "- by leveraging OSM data, we can crate new geospatial features based on distance calculatons generated by driving, walking or public transit modes\n",
        "- OSM street network data is also useful when it comes to soving **vehicle routing problems (VRPs) or shortest path problems\n",
        "- OSM data can also be used as a **reference layer** within mapping products"
      ],
      "metadata": {
        "id": "t_-ZW1HIIjK6"
      }
    },
    {
      "cell_type": "markdown",
      "source": [
        "#### United Nations Environment Programme geodata\n",
        "\n",
        "- the **United Nations Environment Programme (UNEP)** maintains a rich catalog of human geographic data that covers geographies across the globe\n",
        "- https://datacore-gn.unepgrid.ch/geonetwork/srv/eng/catalog.search#/home"
      ],
      "metadata": {
        "id": "KcwYrsyCLIKQ"
      }
    },
    {
      "cell_type": "markdown",
      "source": [
        "#### University of Wisconsin Center for Sustainability and the Global Environment (SAGE)\n",
        "\n",
        "- mostly grid-based datasets that represent topics such as air quality, urban expansion and crop calendars\n",
        "- to view SAGE's data catalog: https://sage.nelson.wisc.edu/data-and-models/\n"
      ],
      "metadata": {
        "id": "PEF53I6vNh2U"
      }
    },
    {
      "cell_type": "markdown",
      "source": [
        "#### CIA World Factbook\n",
        "\n",
        "- the US **Central Intelligence Agency (CIA)** maintains a data catalog called the **World Factbook** that provides intelligence regarding:\n",
        "    - governments\n",
        "    - people\n",
        "    - geography\n",
        "    - transportation systems\n",
        "    - militaries\n",
        "    - terrorism\n",
        "- https://www.cia.gov/the-world-factbook/"
      ],
      "metadata": {
        "id": "Rdcj9t3QOyAS"
      }
    },
    {
      "cell_type": "markdown",
      "source": [
        "### Physical Geography\n",
        "\n",
        "- physical geography is a branch of geospatial data that represents the physical, or natural environment\n",
        "- includes:\n",
        "    - weather\n",
        "    - climate\n",
        "    - land formations\n",
        "    - plants\n",
        "    - natural phenomena such as earthquakes and tsunamis\n",
        "    - ..."
      ],
      "metadata": {
        "id": "fFJbReSVP7RT"
      }
    },
    {
      "cell_type": "markdown",
      "source": [
        "#### United States Geological Survey\n",
        "\n",
        "- the **United States Geological Survey (USGS)** mains a rich data catalog of both real-time and historical physical geography\n",
        "- real-time data includes active monitoring of earthquakes, landslides, volcanoes, wildfires and geomagnetism\n",
        "- the USGS, in partnership with **National Aeronautics and Space Administration (NASA)** publishes and maintains **Landsat** data\n",
        "    - images captured by NASA's Earth observation satellites\n",
        "    - raster data\n",
        "- https://www.usgs.gov/"
      ],
      "metadata": {
        "id": "QEXWKtCTQUP9"
      }
    },
    {
      "cell_type": "markdown",
      "source": [
        "#### National Aeronautics and Space Agency (NASA)\n",
        "\n",
        "- provides Earth observation via its **Earthdata portal**\n",
        "- https://search.earthdata.nasa.gov/search\n",
        "- to download data you need to register for a free account: https://www.earthdata.nasa.gov/eosdis/science-system-description/eosdis-components/earthdata-login"
      ],
      "metadata": {
        "id": "RtRV1VNtVNrh"
      }
    },
    {
      "cell_type": "markdown",
      "source": [
        "#### OpenTopography"
      ],
      "metadata": {
        "id": "qAYy0ewcap-j"
      }
    }
  ]
}