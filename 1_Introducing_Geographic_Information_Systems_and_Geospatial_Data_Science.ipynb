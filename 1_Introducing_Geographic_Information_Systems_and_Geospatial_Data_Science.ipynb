{
  "nbformat": 4,
  "nbformat_minor": 0,
  "metadata": {
    "colab": {
      "provenance": [],
      "authorship_tag": "ABX9TyOyIgFBrnJ1AAEjgGtF+xVT",
      "include_colab_link": true
    },
    "kernelspec": {
      "name": "python3",
      "display_name": "Python 3"
    },
    "language_info": {
      "name": "python"
    }
  },
  "cells": [
    {
      "cell_type": "markdown",
      "metadata": {
        "id": "view-in-github",
        "colab_type": "text"
      },
      "source": [
        "<a href=\"https://colab.research.google.com/github/PaulToronto/Applied-Geospatial-Data-Science-with-Python---Book/blob/main/1_Introducing_Geographic_Information_Systems_and_Geospatial_Data_Science.ipynb\" target=\"_parent\"><img src=\"https://colab.research.google.com/assets/colab-badge.svg\" alt=\"Open In Colab\"/></a>"
      ]
    },
    {
      "cell_type": "markdown",
      "source": [
        "# Introducing Geographic Information Systems and Geospatial Data Science"
      ],
      "metadata": {
        "id": "vHRssqzpmd-s"
      }
    },
    {
      "cell_type": "markdown",
      "source": [
        "## Geospatial Data Science\n",
        "\n",
        "- lies at the intersection of **data science** and **GIS**\n",
        "- a subset of data science that concentrates on geospatial data\n",
        "- doesn't just treat spatial data as another feature in a tabular dataset\n",
        "    - focuses on identifying spatial relationships based on location, distance and intersections between objects\n",
        "- **geospatial data science** focus on data pertaining to the Earth\n",
        "- **spatial data science** is more general\n",
        "    - focuses on where3 the datum is located and how it is related across space\n",
        "    - can be applied to many different problems:\n",
        "        - location of atoms in your body\n",
        "        - distance between asteroids in the main belt between Mars and Jupiter"
      ],
      "metadata": {
        "id": "y8yxyOUQmn3y"
      }
    }
  ]
}