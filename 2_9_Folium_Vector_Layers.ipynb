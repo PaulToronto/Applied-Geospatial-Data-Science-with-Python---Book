{
  "nbformat": 4,
  "nbformat_minor": 0,
  "metadata": {
    "colab": {
      "provenance": [],
      "toc_visible": true,
      "authorship_tag": "ABX9TyOj+74KtEYMzZfN4tMAm/ZK",
      "include_colab_link": true
    },
    "kernelspec": {
      "name": "python3",
      "display_name": "Python 3"
    },
    "language_info": {
      "name": "python"
    }
  },
  "cells": [
    {
      "cell_type": "markdown",
      "metadata": {
        "id": "view-in-github",
        "colab_type": "text"
      },
      "source": [
        "<a href=\"https://colab.research.google.com/github/PaulToronto/Applied-Geospatial-Data-Science-with-Python---Book/blob/main/2_9_Folium_Vector_Layers.ipynb\" target=\"_parent\"><img src=\"https://colab.research.google.com/assets/colab-badge.svg\" alt=\"Open In Colab\"/></a>"
      ]
    },
    {
      "cell_type": "markdown",
      "source": [
        "# Folium Vector Layers"
      ],
      "metadata": {
        "id": "tB2xGO81qY_L"
      }
    },
    {
      "cell_type": "markdown",
      "source": [
        "## Imports"
      ],
      "metadata": {
        "id": "eJqCQ1buqcXE"
      }
    },
    {
      "cell_type": "code",
      "execution_count": 1,
      "metadata": {
        "id": "GQCMCJp3qRqx"
      },
      "outputs": [],
      "source": [
        "import folium"
      ]
    },
    {
      "cell_type": "markdown",
      "source": [
        "## `Circle` and `CircleMarker`\n",
        "\n",
        "- `CircleMarker` has a radius specified in pixels\n",
        "    - will not change size when you zoom\n",
        "- `Circle` is specified in metres\n",
        "    - fixed position on map"
      ],
      "metadata": {
        "id": "IDgvdEJ4qzq9"
      }
    },
    {
      "cell_type": "code",
      "source": [],
      "metadata": {
        "id": "sJdJVz2CrPWY"
      },
      "execution_count": null,
      "outputs": []
    }
  ]
}